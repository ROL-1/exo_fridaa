{
 "cells": [
  {
   "cell_type": "code",
   "execution_count": 1,
   "id": "e0ee61ee",
   "metadata": {
    "ExecuteTime": {
     "end_time": "2021-10-13T08:33:06.928046Z",
     "start_time": "2021-10-13T08:33:04.483785Z"
    }
   },
   "outputs": [],
   "source": [
    "try:\n",
    "    from PIL import Image\n",
    "except ImportError:\n",
    "    import Image\n",
    "import pytesseract\n",
    "\n",
    "from pdf2image import convert_from_path\n",
    "import os\n",
    "import cv2\n",
    "import re\n",
    "\n",
    "import pandas as pd\n",
    "\n",
    "from fuzzysearch import find_near_matches\n",
    "from fuzzywuzzy import fuzz\n",
    "from fuzzywuzzy import process"
   ]
  },
  {
   "cell_type": "code",
   "execution_count": 2,
   "id": "fb9e8784",
   "metadata": {
    "ExecuteTime": {
     "end_time": "2021-10-13T08:33:06.956083Z",
     "start_time": "2021-10-13T08:33:06.932849Z"
    }
   },
   "outputs": [],
   "source": [
    "class Extract_data_from_pdf:\n",
    "    \n",
    "    def __init__(self, pdf_path, keywords_path):\n",
    "        \n",
    "        # Config software path (OCR, POPPLER) and catch length\n",
    "        self.pytesseract_path = r'/usr/local/bin/tesseract'\n",
    "        self.poppler_path = r'/usr/local/Cellar/poppler/21.09.0/bin'\n",
    "        self.catch_length = 20\n",
    "        self.txt = \"\"\n",
    "        self.image_file_path = r'img_files/'\n",
    "        \n",
    "        # Create list of images after converting pdf in image \n",
    "        self.list_jpg = self.pdf_to_img(pdf_path)\n",
    "        \n",
    "        \n",
    "        self.df = pd.read_excel(keywords_path)\n",
    "        self.banks = self.df.columns[1:]\n",
    "        self.extract_basic()\n",
    "        self.choose_bank()\n",
    "        self.keywords = self.df[self.bank].tolist()\n",
    "        self.export_data = pd.DataFrame([self.export_result()], columns = self.df['variables'].tolist()).assign(banque=self.bank)\n",
    "    \n",
    "    #--------------------------------------------------------------------------------------------#  \n",
    "    def extract_basic(self):\n",
    "        \"\"\"\n",
    "        Extract string with basic scan of each pages from pdf\n",
    "        @print string\n",
    "        @return none\n",
    "        \"\"\"\n",
    "        final_txt=''\n",
    "        for item_jpg in self.list_jpg:\n",
    "            add_string = self.img_to_string(item_jpg)\n",
    "            final_txt = final_txt+f'\\n page_{self.list_jpg.index(item_jpg)+1}\\n'+add_string\n",
    "            \n",
    "        self.txt = final_txt\n",
    "        #print(self.txt)\n",
    "        \n",
    "    #--------------------------------------------------------------------------------------------#\n",
    "    def choose_bank(self):\n",
    "        \"\"\"\n",
    "        Select bank name in string file\n",
    "        @return none\n",
    "        \"\"\"\n",
    "        for i in self.banks:\n",
    "            if i in self.txt:\n",
    "                self.bank = i\n",
    "                break\n",
    "    \n",
    "    #--------------------------------------------------------------------------------------------#\n",
    "    def img_to_string(self, img_path):\n",
    "        \"\"\"\n",
    "        Scan element to string\n",
    "        @return string with all scan\n",
    "        \"\"\"\n",
    "        pytesseract.pytesseract.tesseract_cmd = self.pytesseract_path\n",
    "        return pytesseract.image_to_string(Image.open(img_path))\n",
    "    \n",
    "    #--------------------------------------------------------------------------------------------#\n",
    "    def pdf_to_img(self, pdf_path):\n",
    "        \"\"\"\n",
    "        Convert and save all pdf pages in jpeg files\n",
    "        @return list of jpeg files\n",
    "        \"\"\"\n",
    "       \n",
    "        pages = convert_from_path(pdf_path, 350,\n",
    "                                  \n",
    "                                  #xxxxx delete this line on linux distribution xxxxxxx\n",
    "                                  poppler_path = self.poppler_path\n",
    "                                  #xxxxxxxxxxxxxxxxxxxxxxxxxxxxxxxxxxxxxxxxxxxxxxxxxxxx\n",
    "                                 )\n",
    "        \n",
    "        i = 1\n",
    "        name = os.path.basename(pdf_path).split('.')[0]\n",
    "        tab_jpg = []\n",
    "        \n",
    "        for page in pages:\n",
    "            image_name = self.image_file_path + name + str(i) + \".jpg\"  \n",
    "            page.save(image_name, \"JPEG\")\n",
    "            i = i+1\n",
    "            tab_jpg.append(image_name)\n",
    "        \n",
    "        return tab_jpg\n",
    "    \n",
    "    #--------------------------------------------------------------------------------------------#\n",
    "    def catch_result(self, key_word):\n",
    "        \"\"\"\n",
    "        Select on scan best keyword matches compare to knowledge_base and extract numerical value associated\n",
    "        @return numerical value or \"Not found\"\n",
    "        \"\"\"\n",
    "    \n",
    "        results = find_near_matches( key_word, self.txt, max_l_dist = 1)\n",
    "        if len(results) != 0:\n",
    "            results_score = [fuzz.token_sort_ratio(key_word, i.matched) for i in results]\n",
    "\n",
    "            start = results[results_score.index(max(results_score))].end\n",
    "            final_list = re.findall('\\d+[\\d\\s,.]\\d+|[\\d\\s,.]\\d+|\\d', self.txt[start:start + self.catch_length].replace(' ',''))\n",
    "            if len(final_list) == 0:\n",
    "                return \"Not found\"\n",
    "\n",
    "            else:\n",
    "                return final_list[0]\n",
    "        else:\n",
    "            return \"Not found\"\n",
    "        \n",
    "    #--------------------------------------------------------------------------------------------#\n",
    "    def export_result(self):\n",
    "        \"\"\"\n",
    "        Create a list of catched results\n",
    "        @return list\n",
    "        \"\"\"\n",
    "        return [self.catch_result(i) for i in self.keywords]"
   ]
  },
  {
   "cell_type": "code",
   "execution_count": 3,
   "id": "6eb8e19c",
   "metadata": {
    "ExecuteTime": {
     "end_time": "2021-10-13T08:33:06.970237Z",
     "start_time": "2021-10-13T08:33:06.961489Z"
    }
   },
   "outputs": [],
   "source": [
    "knowledge_base = 'knowledge_base/alim_keywords.xlsx'\n",
    "pdf_file = 'pdf_files/Banque_courtois.pdf'"
   ]
  },
  {
   "cell_type": "code",
   "execution_count": 4,
   "id": "1d314316",
   "metadata": {
    "ExecuteTime": {
     "end_time": "2021-10-13T08:33:33.468877Z",
     "start_time": "2021-10-13T08:33:06.977150Z"
    }
   },
   "outputs": [
    {
     "data": {
      "text/html": [
       "<div>\n",
       "<style scoped>\n",
       "    .dataframe tbody tr th:only-of-type {\n",
       "        vertical-align: middle;\n",
       "    }\n",
       "\n",
       "    .dataframe tbody tr th {\n",
       "        vertical-align: top;\n",
       "    }\n",
       "\n",
       "    .dataframe thead th {\n",
       "        text-align: right;\n",
       "    }\n",
       "</style>\n",
       "<table border=\"1\" class=\"dataframe\">\n",
       "  <thead>\n",
       "    <tr style=\"text-align: right;\">\n",
       "      <th></th>\n",
       "      <th>Revenus Mensuels</th>\n",
       "      <th>Charges mensuelles</th>\n",
       "      <th>Crédits en cours</th>\n",
       "      <th>Apport personnel</th>\n",
       "      <th>Coût de l’acquisition</th>\n",
       "      <th>Frais d’agence</th>\n",
       "      <th>Frais de courtage</th>\n",
       "      <th>Frais de banque</th>\n",
       "      <th>Frais de garanites</th>\n",
       "      <th>Montant emprunté</th>\n",
       "      <th>Montant total des intérêts</th>\n",
       "      <th>Taux</th>\n",
       "      <th>Durée</th>\n",
       "      <th>Mensualités du prêt hors assurance</th>\n",
       "      <th>Mensualité du prêt avec assurance</th>\n",
       "      <th>Frais de notaires</th>\n",
       "      <th>Code postal</th>\n",
       "      <th>banque</th>\n",
       "    </tr>\n",
       "  </thead>\n",
       "  <tbody>\n",
       "    <tr>\n",
       "      <th>0</th>\n",
       "      <td>4514</td>\n",
       "      <td>66</td>\n",
       "      <td>Not found</td>\n",
       "      <td>19037</td>\n",
       "      <td>198000</td>\n",
       "      <td>0</td>\n",
       "      <td>Not found</td>\n",
       "      <td>975</td>\n",
       "      <td>2612</td>\n",
       "      <td>198000</td>\n",
       "      <td>Not found</td>\n",
       "      <td>1,833</td>\n",
       "      <td>240</td>\n",
       "      <td>Not found</td>\n",
       "      <td>959,36</td>\n",
       "      <td>15450</td>\n",
       "      <td>Not found</td>\n",
       "      <td>BANQUE COURTOIS</td>\n",
       "    </tr>\n",
       "  </tbody>\n",
       "</table>\n",
       "</div>"
      ],
      "text/plain": [
       "  Revenus Mensuels Charges mensuelles Crédits en cours Apport personnel  \\\n",
       "0             4514                 66        Not found            19037   \n",
       "\n",
       "  Coût de l’acquisition Frais d’agence Frais de courtage Frais de banque  \\\n",
       "0                198000              0         Not found             975   \n",
       "\n",
       "  Frais de garanites Montant emprunté Montant total des intérêts   Taux Durée  \\\n",
       "0               2612           198000                  Not found  1,833   240   \n",
       "\n",
       "  Mensualités du prêt hors assurance Mensualité du prêt avec assurance  \\\n",
       "0                          Not found                            959,36   \n",
       "\n",
       "  Frais de notaires Code postal           banque  \n",
       "0             15450   Not found  BANQUE COURTOIS  "
      ]
     },
     "execution_count": 4,
     "metadata": {},
     "output_type": "execute_result"
    }
   ],
   "source": [
    "Extract_data_from_pdf(pdf_file, knowledge_base).export_data"
   ]
  }
 ],
 "metadata": {
  "hide_input": false,
  "kernelspec": {
   "display_name": "Python 3",
   "language": "python",
   "name": "python3"
  },
  "language_info": {
   "codemirror_mode": {
    "name": "ipython",
    "version": 3
   },
   "file_extension": ".py",
   "mimetype": "text/x-python",
   "name": "python",
   "nbconvert_exporter": "python",
   "pygments_lexer": "ipython3",
   "version": "3.8.10"
  },
  "toc": {
   "base_numbering": 1,
   "nav_menu": {},
   "number_sections": false,
   "sideBar": true,
   "skip_h1_title": false,
   "title_cell": "Table of Contents",
   "title_sidebar": "Contents",
   "toc_cell": false,
   "toc_position": {},
   "toc_section_display": true,
   "toc_window_display": false
  },
  "varInspector": {
   "cols": {
    "lenName": 16,
    "lenType": 16,
    "lenVar": 40
   },
   "kernels_config": {
    "python": {
     "delete_cmd_postfix": "",
     "delete_cmd_prefix": "del ",
     "library": "var_list.py",
     "varRefreshCmd": "print(var_dic_list())"
    },
    "r": {
     "delete_cmd_postfix": ") ",
     "delete_cmd_prefix": "rm(",
     "library": "var_list.r",
     "varRefreshCmd": "cat(var_dic_list()) "
    }
   },
   "types_to_exclude": [
    "module",
    "function",
    "builtin_function_or_method",
    "instance",
    "_Feature"
   ],
   "window_display": false
  }
 },
 "nbformat": 4,
 "nbformat_minor": 5
}

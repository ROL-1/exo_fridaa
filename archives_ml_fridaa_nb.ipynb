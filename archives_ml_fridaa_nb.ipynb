{
 "cells": [
  {
   "cell_type": "code",
   "execution_count": 1,
   "id": "c55d1fdc",
   "metadata": {
    "ExecuteTime": {
     "end_time": "2021-09-14T14:16:44.559914Z",
     "start_time": "2021-09-14T14:16:42.896670Z"
    }
   },
   "outputs": [],
   "source": [
    "try:\n",
    "    from PIL import Image\n",
    "except ImportError:\n",
    "    import Image\n",
    "import pytesseract\n",
    "\n",
    "pytesseract.pytesseract.tesseract_cmd = r'/usr/local/bin/tesseract'"
   ]
  },
  {
   "cell_type": "code",
   "execution_count": 2,
   "id": "88e82551",
   "metadata": {
    "ExecuteTime": {
     "end_time": "2021-09-14T14:16:48.709163Z",
     "start_time": "2021-09-14T14:16:44.564814Z"
    }
   },
   "outputs": [
    {
     "name": "stdout",
     "output_type": "stream",
     "text": [
      "DARTY GRAND OUEST\n",
      "\n",
      "Cc\n",
      "Service Comptabilité 2\n",
      "TSA n° 90 005 2\n",
      "93145 - Bondy cedex\n",
      "0 978 970 970 (prix d'un appel local) c\n",
      "°\n",
      "g\n",
      "3\n",
      "JUSTIFICATIF DE VENTE (valant facture) 8\n",
      "Le 04/03/2021\n",
      "Votre commande 9160108143690 du 28/01/2021\n",
      "Référence Qté Libellé Date\n",
      "délivrance\n",
      "3857433 1 MAGIM EXPRESSO M105 INISSIA 01/02/2021\n",
      "CREME\n",
      "Disponibilité des pieces détachées : 5 ans\n",
      "Dont éco-participation DEEE\n",
      "4593510 1. KCOOK RECHAUD HPV240 01/02/2021\n",
      "\n",
      "Disponibilité des pieces détachées : 1 an\n",
      "\n",
      "Dont éco-participation DEEE\n",
      "\n",
      "Le contrat de confiance. Total facture :\n",
      "\n",
      "Dont éco-participation DEEE :\n",
      "\n",
      "M BEYLARD PIERRE\n",
      "\n",
      "32 SEN DE MARIE GALANTE\n",
      "33300 BORDEAUX\n",
      "\n",
      "France\n",
      "\n",
      "M BEYLARD PIERRE\n",
      "\n",
      "32 SEN DE MARIE GALANTE\n",
      "33300 BORDEAUX\n",
      "\n",
      "France\n",
      "\n",
      "Montant / Taux\n",
      "TVA\n",
      "\n",
      "58,32 € 11,66\n",
      "20,00 %\n",
      "\n",
      "Total HT\n",
      "\n",
      "0,02 € 0,00\n",
      "20,00 %\n",
      "\n",
      "77,49 € 15,50\n",
      "20,00 %\n",
      "\n",
      "0,06 € 0,01\n",
      "20,00 %\n",
      "\n",
      "135,81 €\n",
      "0,08 €\n",
      "\n",
      "Page 1/1\n",
      "\n",
      " \n",
      "\n",
      "Total TTC\n",
      "\n",
      "69,99 €\n",
      "\n",
      "0,02 €\n",
      "\n",
      "92,99 €\n",
      "\n",
      "0,07 €\n",
      "\n",
      " \n",
      "\n",
      "Montant régle par :\n",
      "\n",
      "Carte Bleue\n",
      "\n",
      "Solde a régler :\n",
      "\n",
      " \n",
      "\n",
      "DARTY GRAND OUEST - SNC au capital de 30 612 EUR - RCS NANTES B 339 403 933\n",
      "Adresse : Parc Tertiaire de I'Eraudiére - 32, rue de Coulongé - 44315 NANTES Cedex 3\n",
      "TVA intracommunautaire : FR 95 339 403 933\n",
      "\f",
      "\n"
     ]
    }
   ],
   "source": [
    "text_from_image = pytesseract.image_to_string(Image.open('image_facture.png'))\n",
    "print(text_from_image)"
   ]
  },
  {
   "cell_type": "code",
   "execution_count": 5,
   "id": "3c0e3edd",
   "metadata": {
    "ExecuteTime": {
     "end_time": "2021-09-14T14:18:06.249342Z",
     "start_time": "2021-09-14T14:18:01.644157Z"
    }
   },
   "outputs": [],
   "source": [
    "from pdf2image import convert_from_path\n",
    "\n",
    "pdfs = r\"facture.pdf\"\n",
    "\n",
    "pages = convert_from_path(pdfs, 350, poppler_path = r'/usr/local/Cellar/poppler/21.09.0/bin' )\n",
    "i = 1\n",
    "for page in pages:\n",
    "    image_name = \"Page_\" + str(i) + \".jpg\"  \n",
    "    page.save(image_name, \"JPEG\")\n",
    "    i = i+1"
   ]
  },
  {
   "cell_type": "code",
   "execution_count": 6,
   "id": "29d7f1cf",
   "metadata": {
    "ExecuteTime": {
     "end_time": "2021-09-14T14:22:51.491317Z",
     "start_time": "2021-09-14T14:22:47.500401Z"
    }
   },
   "outputs": [
    {
     "name": "stdout",
     "output_type": "stream",
     "text": [
      "Page 1/1\n",
      "\n",
      "DARTY GRAND OUEST\n",
      "\n",
      "M BEYLARD PIERRE\n",
      "\n",
      " \n",
      "\n",
      "Cc\n",
      "Service Comptabilité 8 32 SEN DE MARIE GALANTE\n",
      "TSA n° 90 005 5 33800 BORDEAUX\n",
      "rance\n",
      "93145 - Bondy cedex\n",
      "0 978 970 970 (prix d'un appel local) < | MBEYLARD PIERRE\n",
      "3 32 SEN DE MARIE GALANTE\n",
      "3 33300 BORDEAUX\n",
      "JUSTIFICATIF DE VENTE (valant facture) ® | France\n",
      "Le 04/03/2021\n",
      "Votre commande 9160108143690 du 28/01/2021\n",
      "nee , . ; Date Montant / Taux\n",
      "Référence Qté Libellé délivrance Total HT TVA Total TTC\n",
      "3857433 1 MAGIM EXPRESSO M105 INISSIA 01/02/2021 58,32 € 11,66 69,99 €\n",
      "CREME 20,00 %\n",
      "Disponibilité des pieces détachées : 5 ans\n",
      "Dont éco-participation DEEE 0,02 € 0,00 0,02 €\n",
      "20,00 %\n",
      "4593510 1 © KCOOK RECHAUD HPV240 01/02/2021 77,49 € 15,50 92,99 €\n",
      "Disponibilité des pieces détachées : 1 an 20,00 %\n",
      "Dont éco-participation DEEE 0,06 € 0,01 0,07 €\n",
      "20,00 %\n",
      "\n",
      "Le contrat de confiance. Total facturé : 135,81 € 27,16 € 162,98 €\n",
      "\n",
      "Dont éco-participation DEEE : 0,08 € 0,09 €\n",
      "\n",
      " \n",
      "\n",
      "Montant réglé par : Carte Bleue\n",
      "\n",
      "Solde a régler :\n",
      "\n",
      " \n",
      "\n",
      "DARTY GRAND OUEST - SNC au capital de 30 612 EUR - RCS NANTES B 339 403 933\n",
      "Adresse : Parc Tertiaire de l'Eraudiére - 32, rue de Coulongé - 44315 NANTES Cedex 3\n",
      "TVA intracommunautaire : FR 95 339 403 933\n",
      "\f",
      "\n"
     ]
    }
   ],
   "source": [
    "text_from_image = pytesseract.image_to_string(Image.open('Page_1.jpg'))\n",
    "print(text_from_image)"
   ]
  },
  {
   "cell_type": "code",
   "execution_count": null,
   "id": "7734b29a",
   "metadata": {},
   "outputs": [],
   "source": []
  },
  {
   "cell_type": "code",
   "execution_count": 11,
   "id": "abf5c94f",
   "metadata": {
    "ExecuteTime": {
     "end_time": "2021-09-14T14:40:17.410412Z",
     "start_time": "2021-09-14T14:40:17.380500Z"
    }
   },
   "outputs": [],
   "source": [
    "# use this command to install open cv2\n",
    "# pip install opencv-python\n",
    "\n",
    "# use this command to install PIL\n",
    "# pip install Pillow\n",
    "\n",
    "import cv2\n",
    "from PIL import Image\n",
    "\n",
    "def mark_region(image_path):\n",
    "    \n",
    "    im = cv2.imread(image_path)\n",
    "\n",
    "    gray = cv2.cvtColor(im, cv2.COLOR_BGR2GRAY)\n",
    "    blur = cv2.GaussianBlur(gray, (9,9), 0)\n",
    "    thresh = cv2.adaptiveThreshold(blur,255,cv2.ADAPTIVE_THRESH_GAUSSIAN_C, cv2.THRESH_BINARY_INV,11,30)\n",
    "\n",
    "    # Dilate to combine adjacent text contours\n",
    "    kernel = cv2.getStructuringElement(cv2.MORPH_RECT, (9,9))\n",
    "    dilate = cv2.dilate(thresh, kernel, iterations=4)\n",
    "\n",
    "    # Find contours, highlight text areas, and extract ROIs\n",
    "    cnts = cv2.findContours(dilate, cv2.RETR_EXTERNAL, cv2.CHAIN_APPROX_SIMPLE)\n",
    "    cnts = cnts[0] if len(cnts) == 2 else cnts[1]\n",
    "\n",
    "    line_items_coordinates = []\n",
    "    for c in cnts:\n",
    "        area = cv2.contourArea(c)\n",
    "        x,y,w,h = cv2.boundingRect(c)\n",
    "\n",
    "        if y >= 600 and x <= 1000:\n",
    "            if area > 10000:\n",
    "                image = cv2.rectangle(im, (x,y), (2200, y+h), color=(255,0,255), thickness=3)\n",
    "                line_items_coordinates.append([(x,y), (2200, y+h)])\n",
    "\n",
    "        if y >= 2400 and x<= 2000:\n",
    "            image = cv2.rectangle(im, (x,y), (2200, y+h), color=(255,0,255), thickness=3)\n",
    "            line_items_coordinates.append([(x,y), (2200, y+h)])\n",
    "\n",
    "\n",
    "    return image, line_items_coordinates"
   ]
  },
  {
   "cell_type": "code",
   "execution_count": 16,
   "id": "d523a25a",
   "metadata": {
    "ExecuteTime": {
     "end_time": "2021-09-14T14:42:55.302312Z",
     "start_time": "2021-09-14T14:42:54.831200Z"
    }
   },
   "outputs": [],
   "source": [
    "image1, line_coordinate = mark_region(\"Page_1.jpg\")"
   ]
  },
  {
   "cell_type": "code",
   "execution_count": 17,
   "id": "a7ae8e9f",
   "metadata": {
    "ExecuteTime": {
     "end_time": "2021-09-14T14:43:20.064592Z",
     "start_time": "2021-09-14T14:43:16.523438Z"
    }
   },
   "outputs": [],
   "source": [
    "import matplotlib.pyplot as plt"
   ]
  },
  {
   "cell_type": "code",
   "execution_count": 21,
   "id": "e0743839",
   "metadata": {
    "ExecuteTime": {
     "end_time": "2021-09-14T14:45:58.447421Z",
     "start_time": "2021-09-14T14:45:57.373695Z"
    }
   },
   "outputs": [
    {
     "name": "stdout",
     "output_type": "stream",
     "text": [
      "4593510 1 KCOOK RECHAUD HPV240 01/02/2021 77,49 €\n",
      "Disponibilité des pieces détachées : 1 an\n",
      "\f",
      "\n"
     ]
    },
    {
     "data": {
      "image/png": "[encoded data removed]",
      "text/plain": [
       "<Figure size 720x720 with 1 Axes>"
      ]
     },
     "metadata": {
      "needs_background": "light"
     },
     "output_type": "display_data"
    }
   ],
   "source": [
    "# load the original image\n",
    "image = cv2.imread('Page_1.jpg')\n",
    "\n",
    "# get co-ordinates to crop the image\n",
    "c = line_coordinate[10]\n",
    "\n",
    "# cropping image img = image[y0:y1, x0:x1]\n",
    "img = image[c[0][1]:c[1][1], c[0][0]:c[1][0]]    \n",
    "\n",
    "plt.figure(figsize=(10,10))\n",
    "plt.imshow(img)\n",
    "\n",
    "# convert the image to black and white for better OCR\n",
    "ret,thresh1 = cv2.threshold(img,120,255,cv2.THRESH_BINARY)\n",
    "\n",
    "# pytesseract image to string to get results\n",
    "text = str(pytesseract.image_to_string(thresh1, config='--psm 6'))\n",
    "print(text)\n"
   ]
  },
  {
   "cell_type": "code",
   "execution_count": 25,
   "id": "dfbd4f52",
   "metadata": {
    "ExecuteTime": {
     "end_time": "2021-09-14T14:57:02.964958Z",
     "start_time": "2021-09-14T14:56:54.104585Z"
    }
   },
   "outputs": [
    {
     "name": "stdout",
     "output_type": "stream",
     "text": [
      "DARTY GRAND OUEST - SNC au capital de 30 612 EUR - RCS NANTES B 339 403 §\n",
      "Adresse : Pare Tertiaire de l'Eraudiére - 32, rue de Coulongé - 44315 NANTES Cedex |\n",
      "TVA intracommunautaire : FR 95 339 403 933\n",
      "\f",
      "\n",
      "DARTY GRAND OUEST - SNC au capital de 30 612 EUR - RCS NANTES B 339 403 §\n",
      "Adresse : Pare Tertiaire de l'Eraudiére - 32, rue de Coulongé - 44315 NANTES Cedex |\n",
      "TVA intracommunautaire : FR 95 339 403 933\n",
      "\f",
      "\n",
      "Montant reéglé par : Carte Bleue\n",
      "Solde a ré\n",
      "\f",
      "\n",
      "Montant reéglé par : Carte Bleue\n",
      "Solde a ré\n",
      "\f",
      "\n",
      "Le contrat de confiance. | Total facturé : 135,81 €\n",
      "\f",
      "\n",
      "Le contrat de confiance. | Total facturé : 135,81 €\n",
      "\f",
      "\n",
      "Total facturé : 135,81 €\n",
      "Dont éco-participation DEEE : 0,08 €\n",
      "\f",
      "\n",
      "Total facturé : 135,81 €\n",
      "Dont éco-participation DEEE : 0,08 €\n",
      "\f",
      "\n",
      "\f",
      "\n",
      "Dont éco-participation DEEE 0,06 €\n",
      "\f",
      "\n",
      "4593510 1 KCOOK RECHAUD HPV240 01/02/2021 77,49 €\n",
      "Disponibilité des pieces détachées : 1 an\n",
      "\f",
      "\n",
      "Dont éco-participation DEEE 0,02 €\n",
      "\f",
      "\n",
      ". : VAalG WIUOTILATI\n",
      "Libellé eb Total HT\n",
      "\f",
      "\n",
      "nee s . s vale WIOTTLATI\n",
      "Reférence Qte Libellé al Total HT\n",
      "PRlirasrroarA rere\n",
      "\f",
      "\n",
      "Référence Qté Libellé _ Date Total HT Montan\n",
      "delivrance\n",
      "3857433 1 MAGIM EXPRESSO M105 INISSIA 01/02/2021 58,32 €\n",
      "CREME\n",
      "Disponibilité des pieces détachées : 5 ans\n",
      "\f",
      "\n",
      "9160108143690 du 28/01/2021\n",
      "\f",
      "\n",
      "Votre commande 9160108143690 du 28/01/2021\n",
      "\f",
      "\n",
      "Le 04/03/2021 =\n",
      "\f",
      "\n",
      "JUSTIFICATIF DE VENTE (valant facture) ® | France\n",
      "\f",
      "\n"
     ]
    }
   ],
   "source": [
    "# load the original image\n",
    "image = cv2.imread('Page_1.jpg')\n",
    "\n",
    "for i in range(len(line_coordinate)):\n",
    "    # get co-ordinates to crop the image\n",
    "    c = line_coordinate[i]\n",
    "\n",
    "    # cropping image img = image[y0:y1, x0:x1]\n",
    "    img = image[c[0][1]:c[1][1], c[0][0]:c[1][0]]    \n",
    "\n",
    "    # convert the image to black and white for better OCR\n",
    "    ret,thresh1 = cv2.threshold(img,120,255,cv2.THRESH_BINARY)\n",
    "\n",
    "    # pytesseract image to string to get results\n",
    "    text = str(pytesseract.image_to_string(thresh1, config='--psm 6'))\n",
    "    print(text)\n"
   ]
  },
  {
   "cell_type": "code",
   "execution_count": null,
   "id": "750d13f5",
   "metadata": {},
   "outputs": [],
   "source": []
  },
  {
   "cell_type": "code",
   "execution_count": null,
   "id": "4319f2fd",
   "metadata": {},
   "outputs": [],
   "source": []
  }
 ],
 "metadata": {
  "hide_input": false,
  "kernelspec": {
   "display_name": "Python 3 (ipykernel)",
   "language": "python",
   "name": "python3"
  },
  "language_info": {
   "codemirror_mode": {
    "name": "ipython",
    "version": 3
   },
   "file_extension": ".py",
   "mimetype": "text/x-python",
   "name": "python",
   "nbconvert_exporter": "python",
   "pygments_lexer": "ipython3",
   "version": "3.8.11"
  },
  "toc": {
   "base_numbering": 1,
   "nav_menu": {},
   "number_sections": false,
   "sideBar": true,
   "skip_h1_title": false,
   "title_cell": "Table of Contents",
   "title_sidebar": "Contents",
   "toc_cell": false,
   "toc_position": {},
   "toc_section_display": true,
   "toc_window_display": false
  },
  "varInspector": {
   "cols": {
    "lenName": 16,
    "lenType": 16,
    "lenVar": 40
   },
   "kernels_config": {
    "python": {
     "delete_cmd_postfix": "",
     "delete_cmd_prefix": "del ",
     "library": "var_list.py",
     "varRefreshCmd": "print(var_dic_list())"
    },
    "r": {
     "delete_cmd_postfix": ") ",
     "delete_cmd_prefix": "rm(",
     "library": "var_list.r",
     "varRefreshCmd": "cat(var_dic_list()) "
    }
   },
   "types_to_exclude": [
    "module",
    "function",
    "builtin_function_or_method",
    "instance",
    "_Feature"
   ],
   "window_display": false
  }
 },
 "nbformat": 4,
 "nbformat_minor": 5
}

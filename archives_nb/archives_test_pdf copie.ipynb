{
 "cells": [
  {
   "cell_type": "code",
   "execution_count": 8,
   "id": "e0ee61ee",
   "metadata": {
    "ExecuteTime": {
     "end_time": "2021-10-12T09:53:07.968761Z",
     "start_time": "2021-10-12T09:53:07.941666Z"
    }
   },
   "outputs": [],
   "source": [
    "try:\n",
    "    from PIL import Image\n",
    "except ImportError:\n",
    "    import Image\n",
    "import pytesseract\n",
    "\n",
    "from pdf2image import convert_from_path\n",
    "import os\n",
    "import cv2\n",
    "import re\n",
    "\n",
    "import pandas as pd\n",
    "\n",
    "from fuzzysearch import find_near_matches\n",
    "from fuzzywuzzy import fuzz\n",
    "from fuzzywuzzy import process"
   ]
  },
  {
   "cell_type": "code",
   "execution_count": 126,
   "id": "fb9e8784",
   "metadata": {
    "ExecuteTime": {
     "end_time": "2021-10-12T13:25:07.820895Z",
     "start_time": "2021-10-12T13:25:07.778892Z"
    }
   },
   "outputs": [],
   "source": [
    "class Item:\n",
    "    \n",
    "    def __init__(self, pdf_path, keywords_path):\n",
    "        self.list_jpg = self.pdf_to_img(pdf_path)\n",
    "        self.catch_length = 20\n",
    "        self.txt = \"\"\n",
    "        self.df = pd.read_excel(keywords_path)\n",
    "        self.banks = self.df.columns[1:]\n",
    "        self.extract_basic()\n",
    "        self.choose_bank()\n",
    "        self.keywords = self.df[self.bank].tolist()\n",
    "    \n",
    "       \n",
    "    def extract_basic(self):\n",
    "        \"\"\"\n",
    "        Extract string with basic scan of each pages from pdf\n",
    "        @print string\n",
    "        @return none\n",
    "        \"\"\"\n",
    "        final_txt=''\n",
    "        for item_jpg in self.list_jpg:\n",
    "            add_string = self.img_to_string(item_jpg)\n",
    "            final_txt = final_txt+f'\\n page_{self.list_jpg.index(item_jpg)+1}\\n'+add_string\n",
    "            \n",
    "        self.txt = final_txt\n",
    "        #print(self.txt)\n",
    "        \n",
    "    def choose_bank(self):\n",
    "        \"\"\"\n",
    "        Select bank name in string file\n",
    "        @return none\n",
    "        \"\"\"\n",
    "        for i in self.banks:\n",
    "            if i in self.txt:\n",
    "                self.bank = i\n",
    "                break\n",
    "\n",
    "    def img_to_string(self, img_path):\n",
    "        \"\"\"\n",
    "        Scan element to string\n",
    "        @return string with all scan\n",
    "        \"\"\"\n",
    "        pytesseract.pytesseract.tesseract_cmd = r'/usr/local/bin/tesseract'\n",
    "        return pytesseract.image_to_string(Image.open(img_path))\n",
    "    \n",
    "    def pdf_to_img(self, pdf_path):\n",
    "        \"\"\"\n",
    "        Convert and save all pdf pages in jpeg files\n",
    "        @return list of jpeg files\n",
    "        \"\"\"\n",
    "       \n",
    "        pages = convert_from_path(pdf_path, 350, poppler_path = r'/usr/local/Cellar/poppler/21.09.0/bin' )\n",
    "        \n",
    "        i = 1\n",
    "        name = os.path.basename(pdf_path).split('.')[0]\n",
    "        tab_jpg = []\n",
    "        \n",
    "        for page in pages:\n",
    "            image_name = name + str(i) + \".jpg\"  \n",
    "            page.save(image_name, \"JPEG\")\n",
    "            i = i+1\n",
    "            tab_jpg.append(image_name)\n",
    "        \n",
    "        return tab_jpg\n",
    "    \n",
    "    #def extract_with_cv2(self):\n",
    "      #   \"\"\"\n",
    "      #  Extract string items from element scaned by cv2\n",
    "      #  @print string\n",
    "      #  @return none\n",
    "      #  \"\"\"\n",
    "      #  self.string_cv2 = \"\"\n",
    "      #  for img_item in self.list_jpg:\n",
    "       #     \n",
    "      #      add_string = self.mark_region(img_item)\n",
    "       #     self.string_cv2 = self.string_cv2 + f'\\n page_{self.list_jpg.index(img_item)+1}\\n' + add_string\n",
    "       #        \n",
    "       # print(self.string_cv2)\n",
    "        \n",
    "    def mark_region(self,jpg_path):\n",
    "        \"\"\"\n",
    "        define coordinates of string elements in page and extract strings\n",
    "        @return strings\n",
    "        \"\"\"\n",
    "        \n",
    "        im = cv2.imread(jpg_path)\n",
    "\n",
    "        gray = cv2.cvtColor(im, cv2.COLOR_BGR2GRAY)\n",
    "        blur = cv2.GaussianBlur(gray, (9,9), 0)\n",
    "        thresh = cv2.adaptiveThreshold(blur,255,cv2.ADAPTIVE_THRESH_GAUSSIAN_C, cv2.THRESH_BINARY_INV,11,30)\n",
    "\n",
    "        # Dilate to combine adjacent text contours\n",
    "        kernel = cv2.getStructuringElement(cv2.MORPH_RECT, (9,9))\n",
    "        dilate = cv2.dilate(thresh, kernel, iterations=4)\n",
    "\n",
    "        # Find contours, highlight text areas, and extract ROIs\n",
    "        cnts = cv2.findContours(dilate, cv2.RETR_EXTERNAL, cv2.CHAIN_APPROX_SIMPLE)\n",
    "        cnts = cnts[0] if len(cnts) == 2 else cnts[1]\n",
    "\n",
    "        line_items_coordinates = []\n",
    "        for c in cnts:\n",
    "            area = cv2.contourArea(c)\n",
    "            x,y,w,h = cv2.boundingRect(c)\n",
    "\n",
    "            if y >= 600 and x <= 1000:\n",
    "                if area > 10000:\n",
    "                    image = cv2.rectangle(im, (x,y), (2200, y+h), color=(255,0,255), thickness=3)\n",
    "                    line_items_coordinates.append([(x,y), (2200, y+h)])\n",
    "\n",
    "            if y >= 2400 and x<= 2000:\n",
    "                image = cv2.rectangle(im, (x,y), (2200, y+h), color=(255,0,255), thickness=3)\n",
    "                line_items_coordinates.append([(x,y), (2200, y+h)])\n",
    "\n",
    "        textes = \"\"\n",
    "        \n",
    "        for i in range(len(line_items_coordinates)):\n",
    "            # get co-ordinates to crop the image\n",
    "            c = line_items_coordinates[i]\n",
    "\n",
    "            # cropping image img = image[y0:y1, x0:x1]\n",
    "            img = im[c[0][1]:c[1][1], c[0][0]:c[1][0]]    \n",
    "\n",
    "            # convert the image to black and white for better OCR\n",
    "            ret,thresh1 = cv2.threshold(img,120,255,cv2.THRESH_BINARY)\n",
    "\n",
    "            # pytesseract image to string to get results\n",
    "            text = str(pytesseract.image_to_string(thresh1, config='--psm 6'))\n",
    "\n",
    "            textes = textes + '\\n' + text\n",
    "\n",
    "        return textes\n",
    "    \n",
    "    def catch_result(self, key_word):\n",
    "    \n",
    "        results = find_near_matches( key_word, self.txt, max_l_dist = 1)\n",
    "        if len(results) != 0:\n",
    "            results_score = [fuzz.token_sort_ratio(key_word, i.matched) for i in results]\n",
    "\n",
    "            start = results[results_score.index(max(results_score))].end\n",
    "            final_list = re.findall('\\d+[\\d\\s,.]\\d+|[\\d\\s,.]\\s\\d+|\\d', self.txt[start:start + self.catch_length].replace(' ',''))\n",
    "            if len(final_list) == 0:\n",
    "                return \"Not found\"\n",
    "\n",
    "            else:\n",
    "                return final_list[0]\n",
    "        else:\n",
    "            return \"Not found\"\n",
    "    "
   ]
  },
  {
   "cell_type": "code",
   "execution_count": 127,
   "id": "1d314316",
   "metadata": {
    "ExecuteTime": {
     "end_time": "2021-10-12T13:25:37.942464Z",
     "start_time": "2021-10-12T13:25:10.501731Z"
    }
   },
   "outputs": [],
   "source": [
    "test = Item('num_files/Banque_courtois.pdf', 'alim_keywords.xlsx')"
   ]
  },
  {
   "cell_type": "code",
   "execution_count": 131,
   "id": "c700dfb9",
   "metadata": {
    "ExecuteTime": {
     "end_time": "2021-10-12T13:26:15.931307Z",
     "start_time": "2021-10-12T13:26:15.911108Z"
    }
   },
   "outputs": [
    {
     "data": {
      "text/plain": [
       "'4514'"
      ]
     },
     "execution_count": 131,
     "metadata": {},
     "output_type": "execute_result"
    }
   ],
   "source": [
    "test.catch_result(\"Revenus mensuels\")"
   ]
  },
  {
   "cell_type": "code",
   "execution_count": null,
   "id": "0f677d89",
   "metadata": {},
   "outputs": [],
   "source": []
  },
  {
   "cell_type": "code",
   "execution_count": null,
   "id": "d9f78d85",
   "metadata": {},
   "outputs": [],
   "source": []
  },
  {
   "cell_type": "code",
   "execution_count": null,
   "id": "0b60ea84",
   "metadata": {},
   "outputs": [],
   "source": []
  },
  {
   "cell_type": "code",
   "execution_count": 50,
   "id": "64855da2",
   "metadata": {
    "ExecuteTime": {
     "end_time": "2021-10-12T12:05:31.511411Z",
     "start_time": "2021-10-12T12:05:31.503400Z"
    }
   },
   "outputs": [],
   "source": [
    "variable = \"Frais de Notaire\""
   ]
  },
  {
   "cell_type": "code",
   "execution_count": 51,
   "id": "83665884",
   "metadata": {
    "ExecuteTime": {
     "end_time": "2021-10-12T12:05:56.676029Z",
     "start_time": "2021-10-12T12:05:56.662539Z"
    }
   },
   "outputs": [
    {
     "data": {
      "text/plain": [
       "'15450'"
      ]
     },
     "execution_count": 51,
     "metadata": {},
     "output_type": "execute_result"
    }
   ],
   "source": [
    "test.catch_result(variable)"
   ]
  },
  {
   "cell_type": "code",
   "execution_count": 30,
   "id": "d07240e6",
   "metadata": {
    "ExecuteTime": {
     "end_time": "2021-10-12T10:21:22.729031Z",
     "start_time": "2021-10-12T10:21:22.654617Z"
    }
   },
   "outputs": [],
   "source": [
    "#def catch_result(key_word, global_text):\n",
    "    \n",
    "    #results = find_near_matches( key_word, global_text, max_l_dist = 1)\n",
    "    #results_score = [fuzz.token_sort_ratio(key_word, i.matched) for i in results]\n",
    "    \n",
    "    #start = results[results_score.index(max(results_score))].end\n",
    "    \n",
    "    #return re.sub(\"[^\\d,\\.]+\",\"\", global_text[start:start+10])"
   ]
  },
  {
   "cell_type": "code",
   "execution_count": 38,
   "id": "da19b4df",
   "metadata": {
    "ExecuteTime": {
     "end_time": "2021-10-12T11:52:49.604957Z",
     "start_time": "2021-10-12T11:52:49.597626Z"
    }
   },
   "outputs": [],
   "source": [
    "def catch_result(key_word, global_text):\n",
    "    \n",
    "    results = find_near_matches( key_word, global_text, max_l_dist = 1)\n",
    "    results_score = [fuzz.token_sort_ratio(key_word, i.matched) for i in results]\n",
    "    \n",
    "    start = results[results_score.index(max(results_score))].end\n",
    "    return re.findall('\\d+[\\d\\s,.]\\d+|[\\d\\s,.]\\s\\d+|\\d', global_text[start:start+50].replace(' ',''))[0]"
   ]
  },
  {
   "cell_type": "code",
   "execution_count": 41,
   "id": "24bdf47e",
   "metadata": {
    "ExecuteTime": {
     "end_time": "2021-10-12T11:53:40.050589Z",
     "start_time": "2021-10-12T11:53:40.026725Z"
    }
   },
   "outputs": [
    {
     "data": {
      "text/plain": [
       "'15450'"
      ]
     },
     "execution_count": 41,
     "metadata": {},
     "output_type": "execute_result"
    }
   ],
   "source": [
    "catch_result(variable, test.txt)"
   ]
  },
  {
   "cell_type": "code",
   "execution_count": null,
   "id": "d6ce7108",
   "metadata": {
    "ExecuteTime": {
     "end_time": "2021-10-12T09:40:55.979596Z",
     "start_time": "2021-10-12T09:40:55.979554Z"
    }
   },
   "outputs": [],
   "source": [
    "def extract_item(string_item, len_item = 10, texte):\n",
    "    b = test.txt.find(string_item) + len(string_item)+1\n",
    "    return texte[b : b + len_item]"
   ]
  },
  {
   "cell_type": "code",
   "execution_count": null,
   "id": "c1872636",
   "metadata": {
    "ExecuteTime": {
     "end_time": "2021-10-12T09:40:55.993253Z",
     "start_time": "2021-10-12T09:40:55.993199Z"
    }
   },
   "outputs": [],
   "source": [
    "print(extract_item(\"Montant d'emprunt\", 10, test.txt))"
   ]
  },
  {
   "cell_type": "code",
   "execution_count": 27,
   "id": "1259a458",
   "metadata": {
    "ExecuteTime": {
     "end_time": "2021-10-12T09:58:10.618430Z",
     "start_time": "2021-10-12T09:58:10.574321Z"
    }
   },
   "outputs": [
    {
     "ename": "IndexError",
     "evalue": "list index out of range",
     "output_type": "error",
     "traceback": [
      "\u001b[0;31m---------------------------------------------------------------------------\u001b[0m",
      "\u001b[0;31mIndexError\u001b[0m                                Traceback (most recent call last)",
      "\u001b[0;32m<ipython-input-27-1f61b06f9979>\u001b[0m in \u001b[0;36m<module>\u001b[0;34m\u001b[0m\n\u001b[0;32m----> 1\u001b[0;31m \u001b[0mre\u001b[0m\u001b[0;34m.\u001b[0m\u001b[0mfindall\u001b[0m\u001b[0;34m(\u001b[0m\u001b[0;34m'\\d+[,.]\\d+'\u001b[0m\u001b[0;34m,\u001b[0m \u001b[0;34m'@ 12a,38'\u001b[0m\u001b[0;34m)\u001b[0m\u001b[0;34m[\u001b[0m\u001b[0;36m0\u001b[0m\u001b[0;34m]\u001b[0m\u001b[0;34m\u001b[0m\u001b[0;34m\u001b[0m\u001b[0m\n\u001b[0m",
      "\u001b[0;31mIndexError\u001b[0m: list index out of range"
     ]
    }
   ],
   "source": [
    "re.findall('\\d+[,.]\\d+', '@ 12a,38')[0]"
   ]
  },
  {
   "cell_type": "code",
   "execution_count": 28,
   "id": "a5e8bfc6",
   "metadata": {
    "ExecuteTime": {
     "end_time": "2021-10-12T09:58:31.819229Z",
     "start_time": "2021-10-12T09:58:31.805390Z"
    }
   },
   "outputs": [
    {
     "data": {
      "text/plain": [
       "'12,38'"
      ]
     },
     "execution_count": 28,
     "metadata": {},
     "output_type": "execute_result"
    }
   ],
   "source": [
    "result = re.sub(\"[^\\d,\\.]+\",\"\", '@ 12a,38')\n",
    "result"
   ]
  },
  {
   "cell_type": "code",
   "execution_count": null,
   "id": "484ed4c1",
   "metadata": {},
   "outputs": [],
   "source": []
  }
 ],
 "metadata": {
  "hide_input": false,
  "kernelspec": {
   "display_name": "Python 3",
   "language": "python",
   "name": "python3"
  },
  "language_info": {
   "codemirror_mode": {
    "name": "ipython",
    "version": 3
   },
   "file_extension": ".py",
   "mimetype": "text/x-python",
   "name": "python",
   "nbconvert_exporter": "python",
   "pygments_lexer": "ipython3",
   "version": "3.8.10"
  },
  "toc": {
   "base_numbering": 1,
   "nav_menu": {},
   "number_sections": false,
   "sideBar": true,
   "skip_h1_title": false,
   "title_cell": "Table of Contents",
   "title_sidebar": "Contents",
   "toc_cell": false,
   "toc_position": {},
   "toc_section_display": true,
   "toc_window_display": false
  },
  "varInspector": {
   "cols": {
    "lenName": 16,
    "lenType": 16,
    "lenVar": 40
   },
   "kernels_config": {
    "python": {
     "delete_cmd_postfix": "",
     "delete_cmd_prefix": "del ",
     "library": "var_list.py",
     "varRefreshCmd": "print(var_dic_list())"
    },
    "r": {
     "delete_cmd_postfix": ") ",
     "delete_cmd_prefix": "rm(",
     "library": "var_list.r",
     "varRefreshCmd": "cat(var_dic_list()) "
    }
   },
   "types_to_exclude": [
    "module",
    "function",
    "builtin_function_or_method",
    "instance",
    "_Feature"
   ],
   "window_display": false
  }
 },
 "nbformat": 4,
 "nbformat_minor": 5
}
